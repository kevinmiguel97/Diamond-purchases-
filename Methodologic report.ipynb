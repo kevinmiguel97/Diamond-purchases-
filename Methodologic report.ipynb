{
 "cells": [
  {
   "cell_type": "markdown",
   "metadata": {},
   "source": [
    "<h3 align=\"Center\">\n",
    "    <img alt=\"Logo\" title=\"#logo\" width=\"250px\" src=\"https://www.insart.com/wp-content/uploads/Enova.png\">\n",
    "    <br>\n",
    "</h3>\n",
    "\n",
    "# <center> **Diamond prices model**\n",
    "## <center> **Methodologic report**\n",
    "### <center> **Analytics team**\n",
    "### <center> Analysts:\n",
    "### <center> *Kevin M. Figueroa*\n",
    "### <center> *Dec 6th 2022*"
   ]
  },
  {
   "cell_type": "code",
   "execution_count": 22,
   "metadata": {},
   "outputs": [],
   "source": [
    "# Importing libraries Libraries\n",
    "# User defined functions\n",
    "from enova_functions import *                                                   # See file enova_functions.py\n",
    "# Standard libraries\n",
    "import numpy as np\n",
    "import pandas as pd\n",
    "import pandas as pd \n",
    "import warnings\n",
    "warnings.filterwarnings('ignore')\n",
    "#from pandas import MultiIndex, Int16Dtype\n",
    "# Plotting libraries\n",
    "import matplotlib.pyplot as plt \n",
    "import seaborn as sns\n",
    "# Machine learning libraries\n",
    "from sklearn.model_selection import train_test_split\n",
    "from sklearn.metrics import accuracy_score, precision_score, recall_score, confusion_matrix, precision_recall_curve\n",
    "from sklearn.preprocessing import StandardScaler\n",
    "from sklearn.preprocessing import MinMaxScaler\n",
    "from scipy.stats import ks_2samp\n",
    "from pycaret.classification import *\n",
    "# Date and time libraries\n",
    "import datetime as dt\n",
    "import time as tm\n",
    "# Keep graphs in line\n",
    "%matplotlib inline\n",
    "# Show all columns in pandas\n",
    "pd.set_option('display.max_columns', 500)\n",
    "# Graphing style\n",
    "plt.style.use('seaborn-colorblind')"
   ]
  },
  {
   "cell_type": "markdown",
   "metadata": {},
   "source": [
    "## 0. Importing and setting up data"
   ]
  },
  {
   "cell_type": "code",
   "execution_count": 24,
   "metadata": {},
   "outputs": [
    {
     "data": {
      "text/html": [
       "<div>\n",
       "<style scoped>\n",
       "    .dataframe tbody tr th:only-of-type {\n",
       "        vertical-align: middle;\n",
       "    }\n",
       "\n",
       "    .dataframe tbody tr th {\n",
       "        vertical-align: top;\n",
       "    }\n",
       "\n",
       "    .dataframe thead th {\n",
       "        text-align: right;\n",
       "    }\n",
       "</style>\n",
       "<table border=\"1\" class=\"dataframe\">\n",
       "  <thead>\n",
       "    <tr style=\"text-align: right;\">\n",
       "      <th></th>\n",
       "      <th>carats</th>\n",
       "      <th>cert</th>\n",
       "      <th>clarity</th>\n",
       "      <th>color</th>\n",
       "      <th>cut</th>\n",
       "      <th>depth</th>\n",
       "      <th>known_conflict_diamond</th>\n",
       "      <th>measurements</th>\n",
       "      <th>polish</th>\n",
       "      <th>regions</th>\n",
       "      <th>shape</th>\n",
       "      <th>symmetry</th>\n",
       "      <th>table</th>\n",
       "      <th>vendor</th>\n",
       "      <th>price</th>\n",
       "      <th>retail</th>\n",
       "      <th>logprice</th>\n",
       "      <th>logretail</th>\n",
       "    </tr>\n",
       "    <tr>\n",
       "      <th>id</th>\n",
       "      <th></th>\n",
       "      <th></th>\n",
       "      <th></th>\n",
       "      <th></th>\n",
       "      <th></th>\n",
       "      <th></th>\n",
       "      <th></th>\n",
       "      <th></th>\n",
       "      <th></th>\n",
       "      <th></th>\n",
       "      <th></th>\n",
       "      <th></th>\n",
       "      <th></th>\n",
       "      <th></th>\n",
       "      <th></th>\n",
       "      <th></th>\n",
       "      <th></th>\n",
       "      <th></th>\n",
       "    </tr>\n",
       "  </thead>\n",
       "  <tbody>\n",
       "    <tr>\n",
       "      <th>1</th>\n",
       "      <td>0.41</td>\n",
       "      <td>NaN</td>\n",
       "      <td>SI1</td>\n",
       "      <td>L</td>\n",
       "      <td></td>\n",
       "      <td>65.4</td>\n",
       "      <td>False</td>\n",
       "      <td>4.65x4.62x3.03</td>\n",
       "      <td>Very good</td>\n",
       "      <td>Other/Unknown</td>\n",
       "      <td>Princess</td>\n",
       "      <td>Good</td>\n",
       "      <td>NaN</td>\n",
       "      <td>1</td>\n",
       "      <td>430</td>\n",
       "      <td>850</td>\n",
       "      <td>6.063785</td>\n",
       "      <td>6.745236</td>\n",
       "    </tr>\n",
       "    <tr>\n",
       "      <th>2</th>\n",
       "      <td>0.42</td>\n",
       "      <td>AGSL</td>\n",
       "      <td>SI2</td>\n",
       "      <td>L</td>\n",
       "      <td></td>\n",
       "      <td>61.7</td>\n",
       "      <td>False</td>\n",
       "      <td>4.85x4.79x2.98</td>\n",
       "      <td>Excellent</td>\n",
       "      <td>Russia</td>\n",
       "      <td>Marquise</td>\n",
       "      <td>Very good</td>\n",
       "      <td>NaN</td>\n",
       "      <td>1</td>\n",
       "      <td>560</td>\n",
       "      <td>920</td>\n",
       "      <td>6.327937</td>\n",
       "      <td>6.824374</td>\n",
       "    </tr>\n",
       "    <tr>\n",
       "      <th>3</th>\n",
       "      <td>0.40</td>\n",
       "      <td>AGSL</td>\n",
       "      <td>SI1</td>\n",
       "      <td>L</td>\n",
       "      <td></td>\n",
       "      <td>64.0</td>\n",
       "      <td>False</td>\n",
       "      <td>4.66x4.63x2.97</td>\n",
       "      <td>Excellent</td>\n",
       "      <td>South Africa</td>\n",
       "      <td>Round</td>\n",
       "      <td>Excellent</td>\n",
       "      <td>57.0</td>\n",
       "      <td>1</td>\n",
       "      <td>560</td>\n",
       "      <td>575</td>\n",
       "      <td>6.327937</td>\n",
       "      <td>6.354370</td>\n",
       "    </tr>\n",
       "  </tbody>\n",
       "</table>\n",
       "</div>"
      ],
      "text/plain": [
       "    carats  cert clarity color cut  depth  known_conflict_diamond  \\\n",
       "id                                                                  \n",
       "1     0.41   NaN     SI1     L       65.4                   False   \n",
       "2     0.42  AGSL     SI2     L       61.7                   False   \n",
       "3     0.40  AGSL     SI1     L       64.0                   False   \n",
       "\n",
       "      measurements     polish        regions     shape   symmetry  table  \\\n",
       "id                                                                         \n",
       "1   4.65x4.62x3.03  Very good  Other/Unknown  Princess       Good    NaN   \n",
       "2   4.85x4.79x2.98  Excellent         Russia  Marquise  Very good    NaN   \n",
       "3   4.66x4.63x2.97  Excellent   South Africa     Round  Excellent   57.0   \n",
       "\n",
       "    vendor  price  retail  logprice  logretail  \n",
       "id                                              \n",
       "1        1    430     850  6.063785   6.745236  \n",
       "2        1    560     920  6.327937   6.824374  \n",
       "3        1    560     575  6.327937   6.354370  "
      ]
     },
     "execution_count": 24,
     "metadata": {},
     "output_type": "execute_result"
    }
   ],
   "source": [
    "# Import training dataset\n",
    "df_train = pd.read_csv('data/training.csv', index_col='id')\n",
    "# Import offers to make dataset\n",
    "df_offers = pd.read_csv('data/offers.csv', index_col='id')\n",
    "\n",
    "# Standarizing column names for both datasets\n",
    "df_train.columns = [x.strip().lower() for x in df_train.columns]\n",
    "df_offers.columns = [x.strip().lower() for x in df_offers.columns]\n",
    "\n",
    "df_train.head(3)"
   ]
  },
  {
   "cell_type": "markdown",
   "metadata": {},
   "source": [
    "## 1. Exploratory data analysis"
   ]
  },
  {
   "cell_type": "markdown",
   "metadata": {},
   "source": [
    "#### 1.1 Shapes exploration\n",
    "- Training dataset contains 8,050 diamond instances and 16 explicative variables of diamonds to explore and find a good model to predict the distributor's price and retail price. \n",
    "\n",
    "- Offers dataset contains 2,683 possible diamonds to make an offer for "
   ]
  },
  {
   "cell_type": "code",
   "execution_count": 25,
   "metadata": {},
   "outputs": [
    {
     "name": "stdout",
     "output_type": "stream",
     "text": [
      "Training dataset\n",
      "- Observations: 8050\n",
      "- Attributes: 16\n",
      "- Target: 1\n",
      "Offers dataset\n",
      "- Observations: 2683\n",
      "- Attributes: 14\n",
      "Index(['carats', 'cert', 'clarity', 'color', 'cut', 'depth',\n",
      "       'known_conflict_diamond', 'measurements', 'polish', 'regions', 'shape',\n",
      "       'symmetry', 'table', 'vendor', 'price', 'retail', 'logprice',\n",
      "       'logretail'],\n",
      "      dtype='object')\n",
      "Index(['carats', 'cert', 'clarity', 'color', 'cut', 'depth',\n",
      "       'known_conflict_diamond', 'measurements', 'polish', 'regions', 'shape',\n",
      "       'symmetry', 'table', 'vendor', 'offers'],\n",
      "      dtype='object')\n"
     ]
    }
   ],
   "source": [
    "shapes_exploration(df_train, df_offers)\n",
    "print(df_train.columns)\n",
    "print(df_offers.columns)"
   ]
  },
  {
   "cell_type": "code",
   "execution_count": 21,
   "metadata": {},
   "outputs": [
    {
     "data": {
      "text/plain": [
       "(8050, 18)"
      ]
     },
     "execution_count": 21,
     "metadata": {},
     "output_type": "execute_result"
    }
   ],
   "source": [
    "df_train.shape"
   ]
  },
  {
   "cell_type": "code",
   "execution_count": null,
   "metadata": {},
   "outputs": [],
   "source": []
  }
 ],
 "metadata": {
  "kernelspec": {
   "display_name": "Python 3.8.5 ('base')",
   "language": "python",
   "name": "python3"
  },
  "language_info": {
   "codemirror_mode": {
    "name": "ipython",
    "version": 3
   },
   "file_extension": ".py",
   "mimetype": "text/x-python",
   "name": "python",
   "nbconvert_exporter": "python",
   "pygments_lexer": "ipython3",
   "version": "3.8.5"
  },
  "orig_nbformat": 4,
  "vscode": {
   "interpreter": {
    "hash": "1d351383e3a3e9844000d51d8da6adb7ecd27d1d098cfd3c624cba52e341892c"
   }
  }
 },
 "nbformat": 4,
 "nbformat_minor": 2
}
