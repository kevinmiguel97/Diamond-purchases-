{
 "cells": [
  {
   "cell_type": "markdown",
   "metadata": {},
   "source": [
    "<h3 align=\"Center\">\n",
    "    <img alt=\"Logo\" title=\"#logo\" width=\"250px\" src=\"https://www.insart.com/wp-content/uploads/Enova.png\">\n",
    "    <br>\n",
    "</h3>\n",
    "\n",
    "# <center> **Diamond prices model**\n",
    "## <center> **Methodologic report**\n",
    "### <center> **Analytics team**\n",
    "### <center> Analysts:\n",
    "### <center> *Kevin M. Figueroa*\n",
    "### <center> *Dec 6th 2022*"
   ]
  },
  {
   "cell_type": "code",
   "execution_count": null,
   "metadata": {},
   "outputs": [],
   "source": []
  }
 ],
 "metadata": {
  "language_info": {
   "name": "python"
  },
  "orig_nbformat": 4
 },
 "nbformat": 4,
 "nbformat_minor": 2
}
